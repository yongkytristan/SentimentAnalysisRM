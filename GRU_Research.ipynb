{
  "nbformat": 4,
  "nbformat_minor": 0,
  "metadata": {
    "colab": {
      "provenance": []
    },
    "kernelspec": {
      "name": "python3",
      "display_name": "Python 3"
    },
    "language_info": {
      "name": "python"
    }
  },
  "cells": [
    {
      "cell_type": "markdown",
      "source": [
        "# Import Library"
      ],
      "metadata": {
        "id": "0XkCeS4LGjMs"
      }
    },
    {
      "cell_type": "code",
      "source": [
        "!pip install numpy==1.26.0\n",
        "!pip install gensim"
      ],
      "metadata": {
        "colab": {
          "base_uri": "https://localhost:8080/"
        },
        "id": "2OJbugxt74Zt",
        "outputId": "93cd0e21-785b-4c9e-fb35-b70a8487b6eb"
      },
      "execution_count": null,
      "outputs": [
        {
          "output_type": "stream",
          "name": "stdout",
          "text": [
            "Requirement already satisfied: numpy==1.26.0 in /usr/local/lib/python3.11/dist-packages (1.26.0)\n",
            "Requirement already satisfied: gensim in /usr/local/lib/python3.11/dist-packages (4.3.3)\n",
            "Requirement already satisfied: numpy<2.0,>=1.18.5 in /usr/local/lib/python3.11/dist-packages (from gensim) (1.26.0)\n",
            "Requirement already satisfied: scipy<1.14.0,>=1.7.0 in /usr/local/lib/python3.11/dist-packages (from gensim) (1.13.1)\n",
            "Requirement already satisfied: smart-open>=1.8.1 in /usr/local/lib/python3.11/dist-packages (from gensim) (7.1.0)\n",
            "Requirement already satisfied: wrapt in /usr/local/lib/python3.11/dist-packages (from smart-open>=1.8.1->gensim) (1.17.2)\n"
          ]
        }
      ]
    },
    {
      "cell_type": "code",
      "source": [
        "import torch\n",
        "import torch.nn as nn\n",
        "from torch.utils.data import TensorDataset, DataLoader\n",
        "from torch.optim import Adam\n",
        "from torch.nn.utils.rnn import pad_sequence\n",
        "\n",
        "from gensim.models import Word2Vec\n",
        "\n",
        "from sklearn.preprocessing import LabelEncoder\n",
        "from sklearn.model_selection import train_test_split\n",
        "from sklearn.metrics import accuracy_score, f1_score, recall_score, precision_score\n",
        "\n",
        "import nltk\n",
        "from nltk.tokenize import word_tokenize, sent_tokenize\n",
        "from nltk.corpus import stopwords\n",
        "\n",
        "import pandas as pd\n",
        "import numpy as np\n",
        "\n",
        "from google.colab import drive"
      ],
      "metadata": {
        "id": "DaaAGhbP56qh"
      },
      "execution_count": null,
      "outputs": []
    },
    {
      "cell_type": "code",
      "source": [
        "nltk.download('punkt_tab')\n",
        "nltk.download('stopwords')"
      ],
      "metadata": {
        "colab": {
          "base_uri": "https://localhost:8080/"
        },
        "id": "0xJgLOA69V6S",
        "outputId": "5be02295-9932-4a57-cba3-76a5cd497f08"
      },
      "execution_count": null,
      "outputs": [
        {
          "output_type": "stream",
          "name": "stderr",
          "text": [
            "[nltk_data] Downloading package punkt_tab to /root/nltk_data...\n",
            "[nltk_data]   Unzipping tokenizers/punkt_tab.zip.\n",
            "[nltk_data] Downloading package stopwords to /root/nltk_data...\n",
            "[nltk_data]   Unzipping corpora/stopwords.zip.\n"
          ]
        },
        {
          "output_type": "execute_result",
          "data": {
            "text/plain": [
              "True"
            ]
          },
          "metadata": {},
          "execution_count": 3
        }
      ]
    },
    {
      "cell_type": "code",
      "source": [
        "drive.mount('/content/MyDrive')"
      ],
      "metadata": {
        "colab": {
          "base_uri": "https://localhost:8080/"
        },
        "id": "fd2PPos_6rTG",
        "outputId": "a1530b1f-0f5f-4b23-fa69-6d4f430bd2a4"
      },
      "execution_count": null,
      "outputs": [
        {
          "output_type": "stream",
          "name": "stdout",
          "text": [
            "Mounted at /content/MyDrive\n"
          ]
        }
      ]
    },
    {
      "cell_type": "markdown",
      "source": [
        "# Load Data"
      ],
      "metadata": {
        "id": "fC4-SJxkGzUd"
      }
    },
    {
      "cell_type": "code",
      "source": [
        "file_path = \"/content/MyDrive/MyDrive/research-dataset.csv\""
      ],
      "metadata": {
        "id": "LlaGVGrZ613-"
      },
      "execution_count": null,
      "outputs": []
    },
    {
      "cell_type": "code",
      "source": [
        "df = pd.read_csv(file_path)\n",
        "df"
      ],
      "metadata": {
        "colab": {
          "base_uri": "https://localhost:8080/",
          "height": 419
        },
        "id": "tegDqaib60br",
        "outputId": "7faefd95-966b-4ac3-d04d-5b7e9f7a3681"
      },
      "execution_count": null,
      "outputs": [
        {
          "output_type": "execute_result",
          "data": {
            "text/plain": [
              "                                               Sentence Sentiment\n",
              "0                            benaran ngomong begitu nih    NETRAL\n",
              "1     mbg ini masih jalan sih perkembangannya gimana ya    NETRAL\n",
              "2     semoga ini menjadi awal yang baik untuk peruba...   POSITIF\n",
              "3     itu pinjaman ya nanti baliknya ada lebih sedik...   NEGATIF\n",
              "4         biasanya habis omon omon ada yang klarifikasi   NEGATIF\n",
              "...                                                 ...       ...\n",
              "1241                     semoga ini jadi awal yang baik   POSITIF\n",
              "1242  kami optimis indonesia akan lebih baik di bawa...   POSITIF\n",
              "1243  ini contoh nyata pemimpin yang peduli dengan r...   POSITIF\n",
              "1244            kerja keras bapak sangat kami apresiasi   POSITIF\n",
              "1245  alhamdulillah kita punya yang berani mengusut ...   POSITIF\n",
              "\n",
              "[1246 rows x 2 columns]"
            ],
            "text/html": [
              "\n",
              "  <div id=\"df-5d974d14-9473-40ea-9aa0-f919308ac304\" class=\"colab-df-container\">\n",
              "    <div>\n",
              "<style scoped>\n",
              "    .dataframe tbody tr th:only-of-type {\n",
              "        vertical-align: middle;\n",
              "    }\n",
              "\n",
              "    .dataframe tbody tr th {\n",
              "        vertical-align: top;\n",
              "    }\n",
              "\n",
              "    .dataframe thead th {\n",
              "        text-align: right;\n",
              "    }\n",
              "</style>\n",
              "<table border=\"1\" class=\"dataframe\">\n",
              "  <thead>\n",
              "    <tr style=\"text-align: right;\">\n",
              "      <th></th>\n",
              "      <th>Sentence</th>\n",
              "      <th>Sentiment</th>\n",
              "    </tr>\n",
              "  </thead>\n",
              "  <tbody>\n",
              "    <tr>\n",
              "      <th>0</th>\n",
              "      <td>benaran ngomong begitu nih</td>\n",
              "      <td>NETRAL</td>\n",
              "    </tr>\n",
              "    <tr>\n",
              "      <th>1</th>\n",
              "      <td>mbg ini masih jalan sih perkembangannya gimana ya</td>\n",
              "      <td>NETRAL</td>\n",
              "    </tr>\n",
              "    <tr>\n",
              "      <th>2</th>\n",
              "      <td>semoga ini menjadi awal yang baik untuk peruba...</td>\n",
              "      <td>POSITIF</td>\n",
              "    </tr>\n",
              "    <tr>\n",
              "      <th>3</th>\n",
              "      <td>itu pinjaman ya nanti baliknya ada lebih sedik...</td>\n",
              "      <td>NEGATIF</td>\n",
              "    </tr>\n",
              "    <tr>\n",
              "      <th>4</th>\n",
              "      <td>biasanya habis omon omon ada yang klarifikasi</td>\n",
              "      <td>NEGATIF</td>\n",
              "    </tr>\n",
              "    <tr>\n",
              "      <th>...</th>\n",
              "      <td>...</td>\n",
              "      <td>...</td>\n",
              "    </tr>\n",
              "    <tr>\n",
              "      <th>1241</th>\n",
              "      <td>semoga ini jadi awal yang baik</td>\n",
              "      <td>POSITIF</td>\n",
              "    </tr>\n",
              "    <tr>\n",
              "      <th>1242</th>\n",
              "      <td>kami optimis indonesia akan lebih baik di bawa...</td>\n",
              "      <td>POSITIF</td>\n",
              "    </tr>\n",
              "    <tr>\n",
              "      <th>1243</th>\n",
              "      <td>ini contoh nyata pemimpin yang peduli dengan r...</td>\n",
              "      <td>POSITIF</td>\n",
              "    </tr>\n",
              "    <tr>\n",
              "      <th>1244</th>\n",
              "      <td>kerja keras bapak sangat kami apresiasi</td>\n",
              "      <td>POSITIF</td>\n",
              "    </tr>\n",
              "    <tr>\n",
              "      <th>1245</th>\n",
              "      <td>alhamdulillah kita punya yang berani mengusut ...</td>\n",
              "      <td>POSITIF</td>\n",
              "    </tr>\n",
              "  </tbody>\n",
              "</table>\n",
              "<p>1246 rows × 2 columns</p>\n",
              "</div>\n",
              "    <div class=\"colab-df-buttons\">\n",
              "\n",
              "  <div class=\"colab-df-container\">\n",
              "    <button class=\"colab-df-convert\" onclick=\"convertToInteractive('df-5d974d14-9473-40ea-9aa0-f919308ac304')\"\n",
              "            title=\"Convert this dataframe to an interactive table.\"\n",
              "            style=\"display:none;\">\n",
              "\n",
              "  <svg xmlns=\"http://www.w3.org/2000/svg\" height=\"24px\" viewBox=\"0 -960 960 960\">\n",
              "    <path d=\"M120-120v-720h720v720H120Zm60-500h600v-160H180v160Zm220 220h160v-160H400v160Zm0 220h160v-160H400v160ZM180-400h160v-160H180v160Zm440 0h160v-160H620v160ZM180-180h160v-160H180v160Zm440 0h160v-160H620v160Z\"/>\n",
              "  </svg>\n",
              "    </button>\n",
              "\n",
              "  <style>\n",
              "    .colab-df-container {\n",
              "      display:flex;\n",
              "      gap: 12px;\n",
              "    }\n",
              "\n",
              "    .colab-df-convert {\n",
              "      background-color: #E8F0FE;\n",
              "      border: none;\n",
              "      border-radius: 50%;\n",
              "      cursor: pointer;\n",
              "      display: none;\n",
              "      fill: #1967D2;\n",
              "      height: 32px;\n",
              "      padding: 0 0 0 0;\n",
              "      width: 32px;\n",
              "    }\n",
              "\n",
              "    .colab-df-convert:hover {\n",
              "      background-color: #E2EBFA;\n",
              "      box-shadow: 0px 1px 2px rgba(60, 64, 67, 0.3), 0px 1px 3px 1px rgba(60, 64, 67, 0.15);\n",
              "      fill: #174EA6;\n",
              "    }\n",
              "\n",
              "    .colab-df-buttons div {\n",
              "      margin-bottom: 4px;\n",
              "    }\n",
              "\n",
              "    [theme=dark] .colab-df-convert {\n",
              "      background-color: #3B4455;\n",
              "      fill: #D2E3FC;\n",
              "    }\n",
              "\n",
              "    [theme=dark] .colab-df-convert:hover {\n",
              "      background-color: #434B5C;\n",
              "      box-shadow: 0px 1px 3px 1px rgba(0, 0, 0, 0.15);\n",
              "      filter: drop-shadow(0px 1px 2px rgba(0, 0, 0, 0.3));\n",
              "      fill: #FFFFFF;\n",
              "    }\n",
              "  </style>\n",
              "\n",
              "    <script>\n",
              "      const buttonEl =\n",
              "        document.querySelector('#df-5d974d14-9473-40ea-9aa0-f919308ac304 button.colab-df-convert');\n",
              "      buttonEl.style.display =\n",
              "        google.colab.kernel.accessAllowed ? 'block' : 'none';\n",
              "\n",
              "      async function convertToInteractive(key) {\n",
              "        const element = document.querySelector('#df-5d974d14-9473-40ea-9aa0-f919308ac304');\n",
              "        const dataTable =\n",
              "          await google.colab.kernel.invokeFunction('convertToInteractive',\n",
              "                                                    [key], {});\n",
              "        if (!dataTable) return;\n",
              "\n",
              "        const docLinkHtml = 'Like what you see? Visit the ' +\n",
              "          '<a target=\"_blank\" href=https://colab.research.google.com/notebooks/data_table.ipynb>data table notebook</a>'\n",
              "          + ' to learn more about interactive tables.';\n",
              "        element.innerHTML = '';\n",
              "        dataTable['output_type'] = 'display_data';\n",
              "        await google.colab.output.renderOutput(dataTable, element);\n",
              "        const docLink = document.createElement('div');\n",
              "        docLink.innerHTML = docLinkHtml;\n",
              "        element.appendChild(docLink);\n",
              "      }\n",
              "    </script>\n",
              "  </div>\n",
              "\n",
              "\n",
              "    <div id=\"df-4e3e2368-66de-4fb9-a6e1-6c4f3e80af37\">\n",
              "      <button class=\"colab-df-quickchart\" onclick=\"quickchart('df-4e3e2368-66de-4fb9-a6e1-6c4f3e80af37')\"\n",
              "                title=\"Suggest charts\"\n",
              "                style=\"display:none;\">\n",
              "\n",
              "<svg xmlns=\"http://www.w3.org/2000/svg\" height=\"24px\"viewBox=\"0 0 24 24\"\n",
              "     width=\"24px\">\n",
              "    <g>\n",
              "        <path d=\"M19 3H5c-1.1 0-2 .9-2 2v14c0 1.1.9 2 2 2h14c1.1 0 2-.9 2-2V5c0-1.1-.9-2-2-2zM9 17H7v-7h2v7zm4 0h-2V7h2v10zm4 0h-2v-4h2v4z\"/>\n",
              "    </g>\n",
              "</svg>\n",
              "      </button>\n",
              "\n",
              "<style>\n",
              "  .colab-df-quickchart {\n",
              "      --bg-color: #E8F0FE;\n",
              "      --fill-color: #1967D2;\n",
              "      --hover-bg-color: #E2EBFA;\n",
              "      --hover-fill-color: #174EA6;\n",
              "      --disabled-fill-color: #AAA;\n",
              "      --disabled-bg-color: #DDD;\n",
              "  }\n",
              "\n",
              "  [theme=dark] .colab-df-quickchart {\n",
              "      --bg-color: #3B4455;\n",
              "      --fill-color: #D2E3FC;\n",
              "      --hover-bg-color: #434B5C;\n",
              "      --hover-fill-color: #FFFFFF;\n",
              "      --disabled-bg-color: #3B4455;\n",
              "      --disabled-fill-color: #666;\n",
              "  }\n",
              "\n",
              "  .colab-df-quickchart {\n",
              "    background-color: var(--bg-color);\n",
              "    border: none;\n",
              "    border-radius: 50%;\n",
              "    cursor: pointer;\n",
              "    display: none;\n",
              "    fill: var(--fill-color);\n",
              "    height: 32px;\n",
              "    padding: 0;\n",
              "    width: 32px;\n",
              "  }\n",
              "\n",
              "  .colab-df-quickchart:hover {\n",
              "    background-color: var(--hover-bg-color);\n",
              "    box-shadow: 0 1px 2px rgba(60, 64, 67, 0.3), 0 1px 3px 1px rgba(60, 64, 67, 0.15);\n",
              "    fill: var(--button-hover-fill-color);\n",
              "  }\n",
              "\n",
              "  .colab-df-quickchart-complete:disabled,\n",
              "  .colab-df-quickchart-complete:disabled:hover {\n",
              "    background-color: var(--disabled-bg-color);\n",
              "    fill: var(--disabled-fill-color);\n",
              "    box-shadow: none;\n",
              "  }\n",
              "\n",
              "  .colab-df-spinner {\n",
              "    border: 2px solid var(--fill-color);\n",
              "    border-color: transparent;\n",
              "    border-bottom-color: var(--fill-color);\n",
              "    animation:\n",
              "      spin 1s steps(1) infinite;\n",
              "  }\n",
              "\n",
              "  @keyframes spin {\n",
              "    0% {\n",
              "      border-color: transparent;\n",
              "      border-bottom-color: var(--fill-color);\n",
              "      border-left-color: var(--fill-color);\n",
              "    }\n",
              "    20% {\n",
              "      border-color: transparent;\n",
              "      border-left-color: var(--fill-color);\n",
              "      border-top-color: var(--fill-color);\n",
              "    }\n",
              "    30% {\n",
              "      border-color: transparent;\n",
              "      border-left-color: var(--fill-color);\n",
              "      border-top-color: var(--fill-color);\n",
              "      border-right-color: var(--fill-color);\n",
              "    }\n",
              "    40% {\n",
              "      border-color: transparent;\n",
              "      border-right-color: var(--fill-color);\n",
              "      border-top-color: var(--fill-color);\n",
              "    }\n",
              "    60% {\n",
              "      border-color: transparent;\n",
              "      border-right-color: var(--fill-color);\n",
              "    }\n",
              "    80% {\n",
              "      border-color: transparent;\n",
              "      border-right-color: var(--fill-color);\n",
              "      border-bottom-color: var(--fill-color);\n",
              "    }\n",
              "    90% {\n",
              "      border-color: transparent;\n",
              "      border-bottom-color: var(--fill-color);\n",
              "    }\n",
              "  }\n",
              "</style>\n",
              "\n",
              "      <script>\n",
              "        async function quickchart(key) {\n",
              "          const quickchartButtonEl =\n",
              "            document.querySelector('#' + key + ' button');\n",
              "          quickchartButtonEl.disabled = true;  // To prevent multiple clicks.\n",
              "          quickchartButtonEl.classList.add('colab-df-spinner');\n",
              "          try {\n",
              "            const charts = await google.colab.kernel.invokeFunction(\n",
              "                'suggestCharts', [key], {});\n",
              "          } catch (error) {\n",
              "            console.error('Error during call to suggestCharts:', error);\n",
              "          }\n",
              "          quickchartButtonEl.classList.remove('colab-df-spinner');\n",
              "          quickchartButtonEl.classList.add('colab-df-quickchart-complete');\n",
              "        }\n",
              "        (() => {\n",
              "          let quickchartButtonEl =\n",
              "            document.querySelector('#df-4e3e2368-66de-4fb9-a6e1-6c4f3e80af37 button');\n",
              "          quickchartButtonEl.style.display =\n",
              "            google.colab.kernel.accessAllowed ? 'block' : 'none';\n",
              "        })();\n",
              "      </script>\n",
              "    </div>\n",
              "\n",
              "  <div id=\"id_d3c328a5-e382-4854-b429-8bab5b93034e\">\n",
              "    <style>\n",
              "      .colab-df-generate {\n",
              "        background-color: #E8F0FE;\n",
              "        border: none;\n",
              "        border-radius: 50%;\n",
              "        cursor: pointer;\n",
              "        display: none;\n",
              "        fill: #1967D2;\n",
              "        height: 32px;\n",
              "        padding: 0 0 0 0;\n",
              "        width: 32px;\n",
              "      }\n",
              "\n",
              "      .colab-df-generate:hover {\n",
              "        background-color: #E2EBFA;\n",
              "        box-shadow: 0px 1px 2px rgba(60, 64, 67, 0.3), 0px 1px 3px 1px rgba(60, 64, 67, 0.15);\n",
              "        fill: #174EA6;\n",
              "      }\n",
              "\n",
              "      [theme=dark] .colab-df-generate {\n",
              "        background-color: #3B4455;\n",
              "        fill: #D2E3FC;\n",
              "      }\n",
              "\n",
              "      [theme=dark] .colab-df-generate:hover {\n",
              "        background-color: #434B5C;\n",
              "        box-shadow: 0px 1px 3px 1px rgba(0, 0, 0, 0.15);\n",
              "        filter: drop-shadow(0px 1px 2px rgba(0, 0, 0, 0.3));\n",
              "        fill: #FFFFFF;\n",
              "      }\n",
              "    </style>\n",
              "    <button class=\"colab-df-generate\" onclick=\"generateWithVariable('df')\"\n",
              "            title=\"Generate code using this dataframe.\"\n",
              "            style=\"display:none;\">\n",
              "\n",
              "  <svg xmlns=\"http://www.w3.org/2000/svg\" height=\"24px\"viewBox=\"0 0 24 24\"\n",
              "       width=\"24px\">\n",
              "    <path d=\"M7,19H8.4L18.45,9,17,7.55,7,17.6ZM5,21V16.75L18.45,3.32a2,2,0,0,1,2.83,0l1.4,1.43a1.91,1.91,0,0,1,.58,1.4,1.91,1.91,0,0,1-.58,1.4L9.25,21ZM18.45,9,17,7.55Zm-12,3A5.31,5.31,0,0,0,4.9,8.1,5.31,5.31,0,0,0,1,6.5,5.31,5.31,0,0,0,4.9,4.9,5.31,5.31,0,0,0,6.5,1,5.31,5.31,0,0,0,8.1,4.9,5.31,5.31,0,0,0,12,6.5,5.46,5.46,0,0,0,6.5,12Z\"/>\n",
              "  </svg>\n",
              "    </button>\n",
              "    <script>\n",
              "      (() => {\n",
              "      const buttonEl =\n",
              "        document.querySelector('#id_d3c328a5-e382-4854-b429-8bab5b93034e button.colab-df-generate');\n",
              "      buttonEl.style.display =\n",
              "        google.colab.kernel.accessAllowed ? 'block' : 'none';\n",
              "\n",
              "      buttonEl.onclick = () => {\n",
              "        google.colab.notebook.generateWithVariable('df');\n",
              "      }\n",
              "      })();\n",
              "    </script>\n",
              "  </div>\n",
              "\n",
              "    </div>\n",
              "  </div>\n"
            ],
            "application/vnd.google.colaboratory.intrinsic+json": {
              "type": "dataframe",
              "variable_name": "df",
              "summary": "{\n  \"name\": \"df\",\n  \"rows\": 1246,\n  \"fields\": [\n    {\n      \"column\": \"Sentence\",\n      \"properties\": {\n        \"dtype\": \"string\",\n        \"num_unique_values\": 1158,\n        \"samples\": [\n          \"bahlul\",\n          \"yaudah kita tunggu realisasinya aja dulu\",\n          \"saya setuju dengan langkah tegas pak prabowo semoga semakin banyak yang mendapat perhatian\"\n        ],\n        \"semantic_type\": \"\",\n        \"description\": \"\"\n      }\n    },\n    {\n      \"column\": \"Sentiment\",\n      \"properties\": {\n        \"dtype\": \"category\",\n        \"num_unique_values\": 3,\n        \"samples\": [\n          \"NETRAL\",\n          \"POSITIF\",\n          \"NEGATIF\"\n        ],\n        \"semantic_type\": \"\",\n        \"description\": \"\"\n      }\n    }\n  ]\n}"
            }
          },
          "metadata": {},
          "execution_count": 6
        }
      ]
    },
    {
      "cell_type": "code",
      "source": [
        "df['Sentiment'] = [i.strip() for i in df['Sentiment']]"
      ],
      "metadata": {
        "id": "uwEdk-7NO0-n"
      },
      "execution_count": null,
      "outputs": []
    },
    {
      "cell_type": "code",
      "source": [
        "df['Sentiment'].value_counts()"
      ],
      "metadata": {
        "colab": {
          "base_uri": "https://localhost:8080/",
          "height": 207
        },
        "id": "wZYNAWoRPGBJ",
        "outputId": "456669ef-82e0-4627-e335-5940839a6e0e"
      },
      "execution_count": null,
      "outputs": [
        {
          "output_type": "execute_result",
          "data": {
            "text/plain": [
              "Sentiment\n",
              "NEGATIF    424\n",
              "NETRAL     422\n",
              "POSITIF    400\n",
              "Name: count, dtype: int64"
            ],
            "text/html": [
              "<div>\n",
              "<style scoped>\n",
              "    .dataframe tbody tr th:only-of-type {\n",
              "        vertical-align: middle;\n",
              "    }\n",
              "\n",
              "    .dataframe tbody tr th {\n",
              "        vertical-align: top;\n",
              "    }\n",
              "\n",
              "    .dataframe thead th {\n",
              "        text-align: right;\n",
              "    }\n",
              "</style>\n",
              "<table border=\"1\" class=\"dataframe\">\n",
              "  <thead>\n",
              "    <tr style=\"text-align: right;\">\n",
              "      <th></th>\n",
              "      <th>count</th>\n",
              "    </tr>\n",
              "    <tr>\n",
              "      <th>Sentiment</th>\n",
              "      <th></th>\n",
              "    </tr>\n",
              "  </thead>\n",
              "  <tbody>\n",
              "    <tr>\n",
              "      <th>NEGATIF</th>\n",
              "      <td>424</td>\n",
              "    </tr>\n",
              "    <tr>\n",
              "      <th>NETRAL</th>\n",
              "      <td>422</td>\n",
              "    </tr>\n",
              "    <tr>\n",
              "      <th>POSITIF</th>\n",
              "      <td>400</td>\n",
              "    </tr>\n",
              "  </tbody>\n",
              "</table>\n",
              "</div><br><label><b>dtype:</b> int64</label>"
            ]
          },
          "metadata": {},
          "execution_count": 8
        }
      ]
    },
    {
      "cell_type": "markdown",
      "source": [
        "# Preprocess"
      ],
      "metadata": {
        "id": "aw61sTD-IE26"
      }
    },
    {
      "cell_type": "code",
      "source": [
        "for idx, sentence in enumerate(df['Sentence']):\n",
        "  words = word_tokenize(sentence)\n",
        "  words = [word.lower() for word in words if word.isalpha()]\n",
        "  words = [word for word in words if word not in stopwords.words('indonesian')]\n",
        "  df.loc[idx, 'Sentence'] = ' '.join(words)\n",
        "df"
      ],
      "metadata": {
        "colab": {
          "base_uri": "https://localhost:8080/",
          "height": 419
        },
        "id": "9fmZuRq09MHx",
        "outputId": "69c912b8-cf56-4b74-98d2-74cdce27b1b0"
      },
      "execution_count": null,
      "outputs": [
        {
          "output_type": "execute_result",
          "data": {
            "text/plain": [
              "                                               Sentence Sentiment\n",
              "0                                   benaran ngomong nih    NETRAL\n",
              "1               mbg jalan sih perkembangannya gimana ya    NETRAL\n",
              "2                         semoga perubahan pemerintahan   POSITIF\n",
              "3                           pinjaman ya baliknya bisnis   NEGATIF\n",
              "4                           habis omon omon klarifikasi   NEGATIF\n",
              "...                                                 ...       ...\n",
              "1241                                             semoga   POSITIF\n",
              "1242                     optimis indonesia kepemimpinan   POSITIF\n",
              "1243                contoh nyata pemimpin peduli rakyat   POSITIF\n",
              "1244                              kerja keras apresiasi   POSITIF\n",
              "1245  alhamdulillah berani mengusut tuntas merugikan...   POSITIF\n",
              "\n",
              "[1246 rows x 2 columns]"
            ],
            "text/html": [
              "\n",
              "  <div id=\"df-205ce93e-5c8d-4fb5-85c6-3ed4aca0dff2\" class=\"colab-df-container\">\n",
              "    <div>\n",
              "<style scoped>\n",
              "    .dataframe tbody tr th:only-of-type {\n",
              "        vertical-align: middle;\n",
              "    }\n",
              "\n",
              "    .dataframe tbody tr th {\n",
              "        vertical-align: top;\n",
              "    }\n",
              "\n",
              "    .dataframe thead th {\n",
              "        text-align: right;\n",
              "    }\n",
              "</style>\n",
              "<table border=\"1\" class=\"dataframe\">\n",
              "  <thead>\n",
              "    <tr style=\"text-align: right;\">\n",
              "      <th></th>\n",
              "      <th>Sentence</th>\n",
              "      <th>Sentiment</th>\n",
              "    </tr>\n",
              "  </thead>\n",
              "  <tbody>\n",
              "    <tr>\n",
              "      <th>0</th>\n",
              "      <td>benaran ngomong nih</td>\n",
              "      <td>NETRAL</td>\n",
              "    </tr>\n",
              "    <tr>\n",
              "      <th>1</th>\n",
              "      <td>mbg jalan sih perkembangannya gimana ya</td>\n",
              "      <td>NETRAL</td>\n",
              "    </tr>\n",
              "    <tr>\n",
              "      <th>2</th>\n",
              "      <td>semoga perubahan pemerintahan</td>\n",
              "      <td>POSITIF</td>\n",
              "    </tr>\n",
              "    <tr>\n",
              "      <th>3</th>\n",
              "      <td>pinjaman ya baliknya bisnis</td>\n",
              "      <td>NEGATIF</td>\n",
              "    </tr>\n",
              "    <tr>\n",
              "      <th>4</th>\n",
              "      <td>habis omon omon klarifikasi</td>\n",
              "      <td>NEGATIF</td>\n",
              "    </tr>\n",
              "    <tr>\n",
              "      <th>...</th>\n",
              "      <td>...</td>\n",
              "      <td>...</td>\n",
              "    </tr>\n",
              "    <tr>\n",
              "      <th>1241</th>\n",
              "      <td>semoga</td>\n",
              "      <td>POSITIF</td>\n",
              "    </tr>\n",
              "    <tr>\n",
              "      <th>1242</th>\n",
              "      <td>optimis indonesia kepemimpinan</td>\n",
              "      <td>POSITIF</td>\n",
              "    </tr>\n",
              "    <tr>\n",
              "      <th>1243</th>\n",
              "      <td>contoh nyata pemimpin peduli rakyat</td>\n",
              "      <td>POSITIF</td>\n",
              "    </tr>\n",
              "    <tr>\n",
              "      <th>1244</th>\n",
              "      <td>kerja keras apresiasi</td>\n",
              "      <td>POSITIF</td>\n",
              "    </tr>\n",
              "    <tr>\n",
              "      <th>1245</th>\n",
              "      <td>alhamdulillah berani mengusut tuntas merugikan...</td>\n",
              "      <td>POSITIF</td>\n",
              "    </tr>\n",
              "  </tbody>\n",
              "</table>\n",
              "<p>1246 rows × 2 columns</p>\n",
              "</div>\n",
              "    <div class=\"colab-df-buttons\">\n",
              "\n",
              "  <div class=\"colab-df-container\">\n",
              "    <button class=\"colab-df-convert\" onclick=\"convertToInteractive('df-205ce93e-5c8d-4fb5-85c6-3ed4aca0dff2')\"\n",
              "            title=\"Convert this dataframe to an interactive table.\"\n",
              "            style=\"display:none;\">\n",
              "\n",
              "  <svg xmlns=\"http://www.w3.org/2000/svg\" height=\"24px\" viewBox=\"0 -960 960 960\">\n",
              "    <path d=\"M120-120v-720h720v720H120Zm60-500h600v-160H180v160Zm220 220h160v-160H400v160Zm0 220h160v-160H400v160ZM180-400h160v-160H180v160Zm440 0h160v-160H620v160ZM180-180h160v-160H180v160Zm440 0h160v-160H620v160Z\"/>\n",
              "  </svg>\n",
              "    </button>\n",
              "\n",
              "  <style>\n",
              "    .colab-df-container {\n",
              "      display:flex;\n",
              "      gap: 12px;\n",
              "    }\n",
              "\n",
              "    .colab-df-convert {\n",
              "      background-color: #E8F0FE;\n",
              "      border: none;\n",
              "      border-radius: 50%;\n",
              "      cursor: pointer;\n",
              "      display: none;\n",
              "      fill: #1967D2;\n",
              "      height: 32px;\n",
              "      padding: 0 0 0 0;\n",
              "      width: 32px;\n",
              "    }\n",
              "\n",
              "    .colab-df-convert:hover {\n",
              "      background-color: #E2EBFA;\n",
              "      box-shadow: 0px 1px 2px rgba(60, 64, 67, 0.3), 0px 1px 3px 1px rgba(60, 64, 67, 0.15);\n",
              "      fill: #174EA6;\n",
              "    }\n",
              "\n",
              "    .colab-df-buttons div {\n",
              "      margin-bottom: 4px;\n",
              "    }\n",
              "\n",
              "    [theme=dark] .colab-df-convert {\n",
              "      background-color: #3B4455;\n",
              "      fill: #D2E3FC;\n",
              "    }\n",
              "\n",
              "    [theme=dark] .colab-df-convert:hover {\n",
              "      background-color: #434B5C;\n",
              "      box-shadow: 0px 1px 3px 1px rgba(0, 0, 0, 0.15);\n",
              "      filter: drop-shadow(0px 1px 2px rgba(0, 0, 0, 0.3));\n",
              "      fill: #FFFFFF;\n",
              "    }\n",
              "  </style>\n",
              "\n",
              "    <script>\n",
              "      const buttonEl =\n",
              "        document.querySelector('#df-205ce93e-5c8d-4fb5-85c6-3ed4aca0dff2 button.colab-df-convert');\n",
              "      buttonEl.style.display =\n",
              "        google.colab.kernel.accessAllowed ? 'block' : 'none';\n",
              "\n",
              "      async function convertToInteractive(key) {\n",
              "        const element = document.querySelector('#df-205ce93e-5c8d-4fb5-85c6-3ed4aca0dff2');\n",
              "        const dataTable =\n",
              "          await google.colab.kernel.invokeFunction('convertToInteractive',\n",
              "                                                    [key], {});\n",
              "        if (!dataTable) return;\n",
              "\n",
              "        const docLinkHtml = 'Like what you see? Visit the ' +\n",
              "          '<a target=\"_blank\" href=https://colab.research.google.com/notebooks/data_table.ipynb>data table notebook</a>'\n",
              "          + ' to learn more about interactive tables.';\n",
              "        element.innerHTML = '';\n",
              "        dataTable['output_type'] = 'display_data';\n",
              "        await google.colab.output.renderOutput(dataTable, element);\n",
              "        const docLink = document.createElement('div');\n",
              "        docLink.innerHTML = docLinkHtml;\n",
              "        element.appendChild(docLink);\n",
              "      }\n",
              "    </script>\n",
              "  </div>\n",
              "\n",
              "\n",
              "    <div id=\"df-7da4d185-343f-4b29-bf7d-b25c63e67473\">\n",
              "      <button class=\"colab-df-quickchart\" onclick=\"quickchart('df-7da4d185-343f-4b29-bf7d-b25c63e67473')\"\n",
              "                title=\"Suggest charts\"\n",
              "                style=\"display:none;\">\n",
              "\n",
              "<svg xmlns=\"http://www.w3.org/2000/svg\" height=\"24px\"viewBox=\"0 0 24 24\"\n",
              "     width=\"24px\">\n",
              "    <g>\n",
              "        <path d=\"M19 3H5c-1.1 0-2 .9-2 2v14c0 1.1.9 2 2 2h14c1.1 0 2-.9 2-2V5c0-1.1-.9-2-2-2zM9 17H7v-7h2v7zm4 0h-2V7h2v10zm4 0h-2v-4h2v4z\"/>\n",
              "    </g>\n",
              "</svg>\n",
              "      </button>\n",
              "\n",
              "<style>\n",
              "  .colab-df-quickchart {\n",
              "      --bg-color: #E8F0FE;\n",
              "      --fill-color: #1967D2;\n",
              "      --hover-bg-color: #E2EBFA;\n",
              "      --hover-fill-color: #174EA6;\n",
              "      --disabled-fill-color: #AAA;\n",
              "      --disabled-bg-color: #DDD;\n",
              "  }\n",
              "\n",
              "  [theme=dark] .colab-df-quickchart {\n",
              "      --bg-color: #3B4455;\n",
              "      --fill-color: #D2E3FC;\n",
              "      --hover-bg-color: #434B5C;\n",
              "      --hover-fill-color: #FFFFFF;\n",
              "      --disabled-bg-color: #3B4455;\n",
              "      --disabled-fill-color: #666;\n",
              "  }\n",
              "\n",
              "  .colab-df-quickchart {\n",
              "    background-color: var(--bg-color);\n",
              "    border: none;\n",
              "    border-radius: 50%;\n",
              "    cursor: pointer;\n",
              "    display: none;\n",
              "    fill: var(--fill-color);\n",
              "    height: 32px;\n",
              "    padding: 0;\n",
              "    width: 32px;\n",
              "  }\n",
              "\n",
              "  .colab-df-quickchart:hover {\n",
              "    background-color: var(--hover-bg-color);\n",
              "    box-shadow: 0 1px 2px rgba(60, 64, 67, 0.3), 0 1px 3px 1px rgba(60, 64, 67, 0.15);\n",
              "    fill: var(--button-hover-fill-color);\n",
              "  }\n",
              "\n",
              "  .colab-df-quickchart-complete:disabled,\n",
              "  .colab-df-quickchart-complete:disabled:hover {\n",
              "    background-color: var(--disabled-bg-color);\n",
              "    fill: var(--disabled-fill-color);\n",
              "    box-shadow: none;\n",
              "  }\n",
              "\n",
              "  .colab-df-spinner {\n",
              "    border: 2px solid var(--fill-color);\n",
              "    border-color: transparent;\n",
              "    border-bottom-color: var(--fill-color);\n",
              "    animation:\n",
              "      spin 1s steps(1) infinite;\n",
              "  }\n",
              "\n",
              "  @keyframes spin {\n",
              "    0% {\n",
              "      border-color: transparent;\n",
              "      border-bottom-color: var(--fill-color);\n",
              "      border-left-color: var(--fill-color);\n",
              "    }\n",
              "    20% {\n",
              "      border-color: transparent;\n",
              "      border-left-color: var(--fill-color);\n",
              "      border-top-color: var(--fill-color);\n",
              "    }\n",
              "    30% {\n",
              "      border-color: transparent;\n",
              "      border-left-color: var(--fill-color);\n",
              "      border-top-color: var(--fill-color);\n",
              "      border-right-color: var(--fill-color);\n",
              "    }\n",
              "    40% {\n",
              "      border-color: transparent;\n",
              "      border-right-color: var(--fill-color);\n",
              "      border-top-color: var(--fill-color);\n",
              "    }\n",
              "    60% {\n",
              "      border-color: transparent;\n",
              "      border-right-color: var(--fill-color);\n",
              "    }\n",
              "    80% {\n",
              "      border-color: transparent;\n",
              "      border-right-color: var(--fill-color);\n",
              "      border-bottom-color: var(--fill-color);\n",
              "    }\n",
              "    90% {\n",
              "      border-color: transparent;\n",
              "      border-bottom-color: var(--fill-color);\n",
              "    }\n",
              "  }\n",
              "</style>\n",
              "\n",
              "      <script>\n",
              "        async function quickchart(key) {\n",
              "          const quickchartButtonEl =\n",
              "            document.querySelector('#' + key + ' button');\n",
              "          quickchartButtonEl.disabled = true;  // To prevent multiple clicks.\n",
              "          quickchartButtonEl.classList.add('colab-df-spinner');\n",
              "          try {\n",
              "            const charts = await google.colab.kernel.invokeFunction(\n",
              "                'suggestCharts', [key], {});\n",
              "          } catch (error) {\n",
              "            console.error('Error during call to suggestCharts:', error);\n",
              "          }\n",
              "          quickchartButtonEl.classList.remove('colab-df-spinner');\n",
              "          quickchartButtonEl.classList.add('colab-df-quickchart-complete');\n",
              "        }\n",
              "        (() => {\n",
              "          let quickchartButtonEl =\n",
              "            document.querySelector('#df-7da4d185-343f-4b29-bf7d-b25c63e67473 button');\n",
              "          quickchartButtonEl.style.display =\n",
              "            google.colab.kernel.accessAllowed ? 'block' : 'none';\n",
              "        })();\n",
              "      </script>\n",
              "    </div>\n",
              "\n",
              "  <div id=\"id_271326df-aade-4552-b44b-8696d012733f\">\n",
              "    <style>\n",
              "      .colab-df-generate {\n",
              "        background-color: #E8F0FE;\n",
              "        border: none;\n",
              "        border-radius: 50%;\n",
              "        cursor: pointer;\n",
              "        display: none;\n",
              "        fill: #1967D2;\n",
              "        height: 32px;\n",
              "        padding: 0 0 0 0;\n",
              "        width: 32px;\n",
              "      }\n",
              "\n",
              "      .colab-df-generate:hover {\n",
              "        background-color: #E2EBFA;\n",
              "        box-shadow: 0px 1px 2px rgba(60, 64, 67, 0.3), 0px 1px 3px 1px rgba(60, 64, 67, 0.15);\n",
              "        fill: #174EA6;\n",
              "      }\n",
              "\n",
              "      [theme=dark] .colab-df-generate {\n",
              "        background-color: #3B4455;\n",
              "        fill: #D2E3FC;\n",
              "      }\n",
              "\n",
              "      [theme=dark] .colab-df-generate:hover {\n",
              "        background-color: #434B5C;\n",
              "        box-shadow: 0px 1px 3px 1px rgba(0, 0, 0, 0.15);\n",
              "        filter: drop-shadow(0px 1px 2px rgba(0, 0, 0, 0.3));\n",
              "        fill: #FFFFFF;\n",
              "      }\n",
              "    </style>\n",
              "    <button class=\"colab-df-generate\" onclick=\"generateWithVariable('df')\"\n",
              "            title=\"Generate code using this dataframe.\"\n",
              "            style=\"display:none;\">\n",
              "\n",
              "  <svg xmlns=\"http://www.w3.org/2000/svg\" height=\"24px\"viewBox=\"0 0 24 24\"\n",
              "       width=\"24px\">\n",
              "    <path d=\"M7,19H8.4L18.45,9,17,7.55,7,17.6ZM5,21V16.75L18.45,3.32a2,2,0,0,1,2.83,0l1.4,1.43a1.91,1.91,0,0,1,.58,1.4,1.91,1.91,0,0,1-.58,1.4L9.25,21ZM18.45,9,17,7.55Zm-12,3A5.31,5.31,0,0,0,4.9,8.1,5.31,5.31,0,0,0,1,6.5,5.31,5.31,0,0,0,4.9,4.9,5.31,5.31,0,0,0,6.5,1,5.31,5.31,0,0,0,8.1,4.9,5.31,5.31,0,0,0,12,6.5,5.46,5.46,0,0,0,6.5,12Z\"/>\n",
              "  </svg>\n",
              "    </button>\n",
              "    <script>\n",
              "      (() => {\n",
              "      const buttonEl =\n",
              "        document.querySelector('#id_271326df-aade-4552-b44b-8696d012733f button.colab-df-generate');\n",
              "      buttonEl.style.display =\n",
              "        google.colab.kernel.accessAllowed ? 'block' : 'none';\n",
              "\n",
              "      buttonEl.onclick = () => {\n",
              "        google.colab.notebook.generateWithVariable('df');\n",
              "      }\n",
              "      })();\n",
              "    </script>\n",
              "  </div>\n",
              "\n",
              "    </div>\n",
              "  </div>\n"
            ],
            "application/vnd.google.colaboratory.intrinsic+json": {
              "type": "dataframe",
              "variable_name": "df",
              "summary": "{\n  \"name\": \"df\",\n  \"rows\": 1246,\n  \"fields\": [\n    {\n      \"column\": \"Sentence\",\n      \"properties\": {\n        \"dtype\": \"string\",\n        \"num_unique_values\": 1136,\n        \"samples\": [\n          \"berpotensi melanggar uu boss\",\n          \"trump menjilat pantat ya si timnya prabowo\",\n          \"dukung langkah positif berpihak rakyat\"\n        ],\n        \"semantic_type\": \"\",\n        \"description\": \"\"\n      }\n    },\n    {\n      \"column\": \"Sentiment\",\n      \"properties\": {\n        \"dtype\": \"category\",\n        \"num_unique_values\": 3,\n        \"samples\": [\n          \"NETRAL\",\n          \"POSITIF\",\n          \"NEGATIF\"\n        ],\n        \"semantic_type\": \"\",\n        \"description\": \"\"\n      }\n    }\n  ]\n}"
            }
          },
          "metadata": {},
          "execution_count": 9
        }
      ]
    },
    {
      "cell_type": "code",
      "source": [
        "all_sentences = list(df['Sentence'])\n",
        "all_sentences = [word_tokenize(sentence) for sentence in all_sentences]\n",
        "all_sentences[0:2]"
      ],
      "metadata": {
        "colab": {
          "base_uri": "https://localhost:8080/"
        },
        "id": "MLj3s074Dti8",
        "outputId": "aa9f1922-1d8f-4193-c478-4dd4d7b179bc"
      },
      "execution_count": null,
      "outputs": [
        {
          "output_type": "execute_result",
          "data": {
            "text/plain": [
              "[['benaran', 'ngomong', 'nih'],\n",
              " ['mbg', 'jalan', 'sih', 'perkembangannya', 'gimana', 'ya']]"
            ]
          },
          "metadata": {},
          "execution_count": 10
        }
      ]
    },
    {
      "cell_type": "code",
      "source": [
        "temp = []\n",
        "for idx, sent in enumerate(all_sentences):\n",
        "  if len(sent) >= 1:\n",
        "    temp.append(sent)\n",
        "  else:\n",
        "    df.drop(index=idx, inplace=True)\n",
        "all_sentences = temp"
      ],
      "metadata": {
        "id": "tvUQav0qe7Fz"
      },
      "execution_count": null,
      "outputs": []
    },
    {
      "cell_type": "markdown",
      "source": [
        "# Variables"
      ],
      "metadata": {
        "id": "kYKTvRBlIKsg"
      }
    },
    {
      "cell_type": "code",
      "source": [
        "embedding_dim = 100\n",
        "window_size = 5\n",
        "hidden_size = 128"
      ],
      "metadata": {
        "id": "MpioHEjwIMe3"
      },
      "execution_count": null,
      "outputs": []
    },
    {
      "cell_type": "markdown",
      "source": [
        "# Word Embeddings"
      ],
      "metadata": {
        "id": "Pf7a8KMLz0EJ"
      }
    },
    {
      "cell_type": "code",
      "source": [
        "embedding_model = Word2Vec(all_sentences, vector_size=embedding_dim, window=window_size, min_count=1)\n",
        "embedding_model.wv['joko']"
      ],
      "metadata": {
        "colab": {
          "base_uri": "https://localhost:8080/"
        },
        "id": "0WvCCeG69q6J",
        "outputId": "6e64d680-9a84-4b70-8620-02d0bb328e1a"
      },
      "execution_count": null,
      "outputs": [
        {
          "output_type": "execute_result",
          "data": {
            "text/plain": [
              "array([-0.0045286 , -0.00287669, -0.00327441, -0.00795131, -0.00164339,\n",
              "       -0.00441174, -0.00324444,  0.00069526,  0.00708205,  0.00811579,\n",
              "       -0.0067065 , -0.00550145,  0.00440483,  0.00247138,  0.00187877,\n",
              "       -0.00208883,  0.00495909,  0.00757344,  0.00688422,  0.00645346,\n",
              "       -0.00698185, -0.00782422,  0.00688151,  0.00627382, -0.00108973,\n",
              "        0.00549345, -0.00885701,  0.00308212, -0.00300999,  0.00539954,\n",
              "       -0.00021437, -0.00547646, -0.00802602,  0.0050889 ,  0.00760772,\n",
              "       -0.00080364, -0.00548525,  0.00420858,  0.00417563,  0.00017112,\n",
              "       -0.00681593, -0.00722905, -0.00897463, -0.00771889,  0.00728402,\n",
              "       -0.00384408, -0.0084662 , -0.00744923, -0.00126926,  0.00866947,\n",
              "        0.00294147,  0.00164629, -0.00401854, -0.00758189,  0.00066674,\n",
              "       -0.00896798, -0.00605638,  0.00797303,  0.00135288, -0.00779549,\n",
              "       -0.0037238 , -0.00223826, -0.00906876, -0.00354703, -0.00721217,\n",
              "        0.00175369,  0.00011784, -0.00536108,  0.00497196, -0.00760679,\n",
              "        0.0016294 ,  0.00832113,  0.00361971,  0.00637905, -0.00160407,\n",
              "       -0.00359536, -0.00279497, -0.00842788, -0.00554846, -0.00528755,\n",
              "        0.00597717, -0.00088286, -0.00783755,  0.00647833,  0.00425336,\n",
              "        0.00399461, -0.00782668, -0.00846587, -0.00023799, -0.0052934 ,\n",
              "       -0.00174695, -0.0097606 , -0.00151368,  0.00705621,  0.0095393 ,\n",
              "       -0.0088614 ,  0.00168865, -0.00603293,  0.00971906, -0.00164876],\n",
              "      dtype=float32)"
            ]
          },
          "metadata": {},
          "execution_count": 13
        }
      ]
    },
    {
      "cell_type": "markdown",
      "source": [
        "# Padding"
      ],
      "metadata": {
        "id": "AgKV2QlYD-N8"
      }
    },
    {
      "cell_type": "code",
      "source": [
        "embedded_sequence = []\n",
        "for sentence in all_sentences:\n",
        "  sent_embeddings = [torch.tensor(embedding_model.wv[word]) for word in sentence if word in embedding_model.wv]\n",
        "  embedded_sequence.append(sent_embeddings)"
      ],
      "metadata": {
        "id": "HIQtWmVVD90W"
      },
      "execution_count": null,
      "outputs": []
    },
    {
      "cell_type": "code",
      "source": [
        "padded = pad_sequence(\n",
        "    [torch.stack(seq) for seq in embedded_sequence],\n",
        "    batch_first=True,\n",
        "    padding_value=0.0\n",
        ")\n",
        "padded[0].shape"
      ],
      "metadata": {
        "colab": {
          "base_uri": "https://localhost:8080/"
        },
        "id": "k_QnNjirHPYb",
        "outputId": "3d0b678b-c9e4-4bda-833e-e1842afb8e10"
      },
      "execution_count": null,
      "outputs": [
        {
          "output_type": "execute_result",
          "data": {
            "text/plain": [
              "torch.Size([13, 100])"
            ]
          },
          "metadata": {},
          "execution_count": 15
        }
      ]
    },
    {
      "cell_type": "code",
      "source": [
        "max_pad_len = len(padded[0])\n",
        "max_pad_len"
      ],
      "metadata": {
        "colab": {
          "base_uri": "https://localhost:8080/"
        },
        "id": "IsZ8Hls6ZN08",
        "outputId": "53bf5caa-0994-4090-8d0d-5cf889121aec"
      },
      "execution_count": null,
      "outputs": [
        {
          "output_type": "execute_result",
          "data": {
            "text/plain": [
              "13"
            ]
          },
          "metadata": {},
          "execution_count": 16
        }
      ]
    },
    {
      "cell_type": "markdown",
      "source": [
        "# Preparing Dataset"
      ],
      "metadata": {
        "id": "CzHJNR4WJgtK"
      }
    },
    {
      "cell_type": "code",
      "source": [
        "encoder = LabelEncoder()\n",
        "df['Sentiment'] = encoder.fit_transform(df['Sentiment'])\n",
        "df['Sentiment']"
      ],
      "metadata": {
        "colab": {
          "base_uri": "https://localhost:8080/",
          "height": 453
        },
        "id": "7ACSBgFVMvLN",
        "outputId": "ab53f927-45e2-4796-8cf0-1498ae9512e9"
      },
      "execution_count": null,
      "outputs": [
        {
          "output_type": "execute_result",
          "data": {
            "text/plain": [
              "0       1\n",
              "1       1\n",
              "2       2\n",
              "3       0\n",
              "4       0\n",
              "       ..\n",
              "1241    2\n",
              "1242    2\n",
              "1243    2\n",
              "1244    2\n",
              "1245    2\n",
              "Name: Sentiment, Length: 1235, dtype: int64"
            ],
            "text/html": [
              "<div>\n",
              "<style scoped>\n",
              "    .dataframe tbody tr th:only-of-type {\n",
              "        vertical-align: middle;\n",
              "    }\n",
              "\n",
              "    .dataframe tbody tr th {\n",
              "        vertical-align: top;\n",
              "    }\n",
              "\n",
              "    .dataframe thead th {\n",
              "        text-align: right;\n",
              "    }\n",
              "</style>\n",
              "<table border=\"1\" class=\"dataframe\">\n",
              "  <thead>\n",
              "    <tr style=\"text-align: right;\">\n",
              "      <th></th>\n",
              "      <th>Sentiment</th>\n",
              "    </tr>\n",
              "  </thead>\n",
              "  <tbody>\n",
              "    <tr>\n",
              "      <th>0</th>\n",
              "      <td>1</td>\n",
              "    </tr>\n",
              "    <tr>\n",
              "      <th>1</th>\n",
              "      <td>1</td>\n",
              "    </tr>\n",
              "    <tr>\n",
              "      <th>2</th>\n",
              "      <td>2</td>\n",
              "    </tr>\n",
              "    <tr>\n",
              "      <th>3</th>\n",
              "      <td>0</td>\n",
              "    </tr>\n",
              "    <tr>\n",
              "      <th>4</th>\n",
              "      <td>0</td>\n",
              "    </tr>\n",
              "    <tr>\n",
              "      <th>...</th>\n",
              "      <td>...</td>\n",
              "    </tr>\n",
              "    <tr>\n",
              "      <th>1241</th>\n",
              "      <td>2</td>\n",
              "    </tr>\n",
              "    <tr>\n",
              "      <th>1242</th>\n",
              "      <td>2</td>\n",
              "    </tr>\n",
              "    <tr>\n",
              "      <th>1243</th>\n",
              "      <td>2</td>\n",
              "    </tr>\n",
              "    <tr>\n",
              "      <th>1244</th>\n",
              "      <td>2</td>\n",
              "    </tr>\n",
              "    <tr>\n",
              "      <th>1245</th>\n",
              "      <td>2</td>\n",
              "    </tr>\n",
              "  </tbody>\n",
              "</table>\n",
              "<p>1235 rows × 1 columns</p>\n",
              "</div><br><label><b>dtype:</b> int64</label>"
            ]
          },
          "metadata": {},
          "execution_count": 17
        }
      ]
    },
    {
      "cell_type": "code",
      "source": [
        "X = padded\n",
        "y = df['Sentiment'].values\n",
        "\n",
        "X_train, X_test, y_train, y_test = train_test_split(X, y, test_size=0.2, random_state=42, stratify=y)\n",
        "\n",
        "train_dataset = TensorDataset(X_train, torch.tensor(y_train))\n",
        "test_dataset = TensorDataset(X_test, torch.tensor(y_test))\n",
        "\n",
        "train_dataloader = DataLoader(train_dataset, shuffle=True)\n",
        "test_dataloader = DataLoader(test_dataset, shuffle=False)"
      ],
      "metadata": {
        "id": "wXBSbp4xQ-OH"
      },
      "execution_count": null,
      "outputs": []
    },
    {
      "cell_type": "markdown",
      "source": [
        "# GRU"
      ],
      "metadata": {
        "id": "4byGDYNfHFhZ"
      }
    },
    {
      "cell_type": "code",
      "source": [
        "class ClassifyUsingGRU(nn.Module):\n",
        "  def __init__(self, vector_size: int, hidden_size: int, lr: float = 0.001):\n",
        "    super().__init__()\n",
        "    self.learning_rate = lr\n",
        "\n",
        "    self.gru = nn.GRU(\n",
        "        input_size=vector_size,\n",
        "        hidden_size=hidden_size,\n",
        "        batch_first=True\n",
        "    )\n",
        "\n",
        "    self.input_to_hidden_linear = nn.Linear(in_features=hidden_size, out_features=64, bias=True)\n",
        "    self.hidden_to_output_linear = nn.Linear(in_features=64, out_features=3, bias=True)\n",
        "\n",
        "  def forward(self, inputs: torch.Tensor):\n",
        "    output, h_n = self.gru(inputs)\n",
        "    # output adalah kumpulan dari hidden state tiap unroll\n",
        "    # h_n adalah hidden state terakhir\n",
        "    input_to_hidden = self.input_to_hidden_linear(h_n.squeeze(0))\n",
        "    relu = torch.relu(input_to_hidden)\n",
        "    hidden_to_output = self.hidden_to_output_linear(relu)\n",
        "    return hidden_to_output\n",
        "\n",
        "    # return h_n\n",
        "\n",
        "  def predict(self, inputs: torch.Tensor, encoder: LabelEncoder):\n",
        "    with torch.no_grad():\n",
        "      result = self.forward(inputs)\n",
        "      result = torch.softmax(result, dim=-1)\n",
        "      result = torch.argmax(result, dim=-1)\n",
        "      result = result.reshape(-1)\n",
        "    return encoder.inverse_transform(result)\n",
        "\n",
        "  def get_optimizers(self):\n",
        "    return Adam(self.parameters(), lr=self.learning_rate)\n",
        "\n",
        "  def training_steps(self, dataloader: DataLoader, epochs: int = 100):\n",
        "    optimizer = self.get_optimizers()\n",
        "    criterion = nn.CrossEntropyLoss()\n",
        "\n",
        "    for epoch in range(epochs):\n",
        "      total_loss = 0\n",
        "\n",
        "      for batch in dataloader:\n",
        "        X, y = batch\n",
        "        y_pred = self.forward(X)\n",
        "        loss = criterion(y_pred, y)\n",
        "        loss.backward()\n",
        "        total_loss += float(loss)\n",
        "\n",
        "      if total_loss < 0.0001:\n",
        "        break\n",
        "\n",
        "      optimizer.step()\n",
        "      optimizer.zero_grad()\n",
        "\n",
        "      if epoch % 10 == 0:\n",
        "        print(f'Epoch {epoch}: Loss {total_loss}')"
      ],
      "metadata": {
        "id": "ZFgUOYqFFNlM"
      },
      "execution_count": null,
      "outputs": []
    },
    {
      "cell_type": "markdown",
      "source": [
        "## Try Predict Without Training"
      ],
      "metadata": {
        "id": "izaL6VwFVgT5"
      }
    },
    {
      "cell_type": "code",
      "source": [
        "embedding_first_try = padded[0]\n",
        "embedding_first_try"
      ],
      "metadata": {
        "colab": {
          "base_uri": "https://localhost:8080/"
        },
        "id": "lStuM-pWuEwS",
        "outputId": "4c250ba7-d270-4c84-d639-8440736b834a"
      },
      "execution_count": null,
      "outputs": [
        {
          "output_type": "execute_result",
          "data": {
            "text/plain": [
              "tensor([[ 0.0050, -0.0053,  0.0007,  ..., -0.0033, -0.0002,  0.0074],\n",
              "        [-0.0096,  0.0061,  0.0047,  ...,  0.0068,  0.0044,  0.0076],\n",
              "        [-0.0080,  0.0053,  0.0028,  ...,  0.0082,  0.0075,  0.0066],\n",
              "        ...,\n",
              "        [ 0.0000,  0.0000,  0.0000,  ...,  0.0000,  0.0000,  0.0000],\n",
              "        [ 0.0000,  0.0000,  0.0000,  ...,  0.0000,  0.0000,  0.0000],\n",
              "        [ 0.0000,  0.0000,  0.0000,  ...,  0.0000,  0.0000,  0.0000]])"
            ]
          },
          "metadata": {},
          "execution_count": 20
        }
      ]
    },
    {
      "cell_type": "code",
      "source": [
        "gru_model = ClassifyUsingGRU(embedding_dim, hidden_size)\n",
        "result = gru_model.predict(embedding_first_try.unsqueeze(0), encoder)\n",
        "print(f'Prediction for {all_sentences[0]}')\n",
        "print(f'{result}')"
      ],
      "metadata": {
        "colab": {
          "base_uri": "https://localhost:8080/"
        },
        "id": "NRvcf-eMthWY",
        "outputId": "98bc086a-d8bb-4ce9-b5ba-1fd9e5ff867d"
      },
      "execution_count": null,
      "outputs": [
        {
          "output_type": "stream",
          "name": "stdout",
          "text": [
            "Prediction for ['benaran', 'ngomong', 'nih']\n",
            "['POSITIF']\n"
          ]
        }
      ]
    },
    {
      "cell_type": "markdown",
      "source": [
        "## Training"
      ],
      "metadata": {
        "id": "zgu4QiybYK3d"
      }
    },
    {
      "cell_type": "code",
      "source": [
        "gru_model.training_steps(train_dataloader, epochs=400)"
      ],
      "metadata": {
        "colab": {
          "base_uri": "https://localhost:8080/"
        },
        "id": "azhieurpX8UR",
        "outputId": "0924f09f-279e-4fe2-bb87-c6dd9b62fc9f"
      },
      "execution_count": null,
      "outputs": [
        {
          "output_type": "stream",
          "name": "stdout",
          "text": [
            "Epoch 0: Loss 1088.105110526085\n",
            "Epoch 10: Loss 1085.2609467506409\n",
            "Epoch 20: Loss 1085.130828499794\n",
            "Epoch 30: Loss 1085.1123563051224\n",
            "Epoch 40: Loss 1085.0800815820694\n",
            "Epoch 50: Loss 1084.9342789649963\n",
            "Epoch 60: Loss 1082.8008357286453\n",
            "Epoch 70: Loss 1026.8642408251762\n",
            "Epoch 80: Loss 964.1639813482761\n",
            "Epoch 90: Loss 939.6406997144222\n",
            "Epoch 100: Loss 919.8133267015219\n",
            "Epoch 110: Loss 902.7177403569221\n",
            "Epoch 120: Loss 887.0452955663204\n",
            "Epoch 130: Loss 873.9281403124332\n",
            "Epoch 140: Loss 862.0336077362299\n",
            "Epoch 150: Loss 893.5498815476894\n",
            "Epoch 160: Loss 851.2003500461578\n",
            "Epoch 170: Loss 845.9292049109936\n",
            "Epoch 180: Loss 832.661196693778\n",
            "Epoch 190: Loss 816.7138336598873\n",
            "Epoch 200: Loss 850.9328913390636\n",
            "Epoch 210: Loss 805.3848039358854\n",
            "Epoch 220: Loss 802.9336355030537\n",
            "Epoch 230: Loss 783.0058150440454\n",
            "Epoch 240: Loss 861.9388611055911\n",
            "Epoch 250: Loss 781.9992435872555\n",
            "Epoch 260: Loss 769.4914872348309\n",
            "Epoch 270: Loss 761.7900388501585\n",
            "Epoch 280: Loss 871.5771068260074\n",
            "Epoch 290: Loss 845.7100033462048\n",
            "Epoch 300: Loss 795.4817255213857\n",
            "Epoch 310: Loss 773.3762290850282\n",
            "Epoch 320: Loss 757.4323150403798\n",
            "Epoch 330: Loss 748.4091551434249\n",
            "Epoch 340: Loss 741.8324691224843\n",
            "Epoch 350: Loss 950.793693004176\n",
            "Epoch 360: Loss 831.6090833060443\n",
            "Epoch 370: Loss 790.2748477011919\n",
            "Epoch 380: Loss 781.951421380043\n",
            "Epoch 390: Loss 767.3093131035566\n"
          ]
        }
      ]
    },
    {
      "cell_type": "code",
      "source": [
        "def preprocess(sentence: str, embedding_model: Word2Vec, max_len: int = 20):\n",
        "  sentence = sentence.lower()\n",
        "  words = word_tokenize(sentence)\n",
        "  words = [word for word in words if word.isalpha()]\n",
        "  words = [word for word in words if word not in stopwords.words('indonesian')]\n",
        "\n",
        "  embedded = []\n",
        "  for word in words:\n",
        "    if word in embedding_model.wv:\n",
        "      embedded.append(torch.tensor(embedding_model.wv[word]))\n",
        "\n",
        "  # jika tidak ada kata valid\n",
        "  if len(embedded) == 0:\n",
        "    embedded = [torch.zeros(embedding_model.vector_size)]\n",
        "\n",
        "  # pad or truncate\n",
        "  if len(embedded) < max_len:\n",
        "    pad_len = max_len - len(embedded)\n",
        "    embedded += [torch.zeros(embedding_model.vector_size)] * pad_len\n",
        "  else:\n",
        "    embedded = embedded[:max_len]\n",
        "\n",
        "  return torch.stack(embedded)"
      ],
      "metadata": {
        "id": "BNjghRA4OIUd"
      },
      "execution_count": null,
      "outputs": []
    },
    {
      "cell_type": "code",
      "source": [
        "coba = 'mantap' # misal\n",
        "coba = preprocess(coba, embedding_model, max_len=max_pad_len).unsqueeze(0)\n",
        "result = gru_model.predict(coba, encoder)\n",
        "print(result)"
      ],
      "metadata": {
        "colab": {
          "base_uri": "https://localhost:8080/"
        },
        "id": "O0xk2CqKNXW4",
        "outputId": "1e623e6c-2c57-40b7-e965-594d25beef22"
      },
      "execution_count": null,
      "outputs": [
        {
          "output_type": "stream",
          "name": "stdout",
          "text": [
            "['POSITIF']\n"
          ]
        }
      ]
    },
    {
      "cell_type": "markdown",
      "source": [
        "# Test Dataset"
      ],
      "metadata": {
        "id": "-X4MHioG8o1c"
      }
    },
    {
      "cell_type": "code",
      "source": [
        "real_y = []\n",
        "y_pred = []\n",
        "for batch in test_dataloader:\n",
        "  X_test, y_test = batch\n",
        "  real_y.extend(y_test)\n",
        "  pred = gru_model.predict(X_test, encoder)\n",
        "  y_pred.extend(encoder.transform(pred))"
      ],
      "metadata": {
        "id": "5LSaT-LC8qwl"
      },
      "execution_count": null,
      "outputs": []
    },
    {
      "cell_type": "code",
      "source": [
        "print('GRU Result')\n",
        "print(f'Accuracy: {accuracy_score(real_y, y_pred)}')\n",
        "print(f'Recall: {recall_score(real_y, y_pred, average=\"macro\")}')\n",
        "print(f'F1: {f1_score(real_y, y_pred, average=\"macro\")}')\n",
        "print(f'Precision: {precision_score(real_y, y_pred, average=\"macro\")}')"
      ],
      "metadata": {
        "colab": {
          "base_uri": "https://localhost:8080/"
        },
        "id": "zHODuYgqmPGa",
        "outputId": "8494759b-66a2-4f9d-e4f0-66df0d4feb63"
      },
      "execution_count": null,
      "outputs": [
        {
          "output_type": "stream",
          "name": "stdout",
          "text": [
            "GRU Result\n",
            "Accuracy: 0.5344129554655871\n",
            "Recall: 0.5358146873207114\n",
            "F1: 0.5293808849724225\n",
            "Precision: 0.5403481012658228\n"
          ]
        }
      ]
    },
    {
      "cell_type": "markdown",
      "source": [
        "## Model Parameters"
      ],
      "metadata": {
        "id": "BaE_iBGNWQHV"
      }
    },
    {
      "cell_type": "code",
      "source": [
        "for name, param in gru_model.named_parameters():\n",
        "  print(name, param.shape)"
      ],
      "metadata": {
        "id": "veC3yMonWRXb",
        "outputId": "0324e70e-462b-4165-f408-55f52e7e3d6a",
        "colab": {
          "base_uri": "https://localhost:8080/"
        }
      },
      "execution_count": null,
      "outputs": [
        {
          "output_type": "stream",
          "name": "stdout",
          "text": [
            "gru.weight_ih_l0 torch.Size([384, 100])\n",
            "gru.weight_hh_l0 torch.Size([384, 128])\n",
            "gru.bias_ih_l0 torch.Size([384])\n",
            "gru.bias_hh_l0 torch.Size([384])\n",
            "input_to_hidden_linear.weight torch.Size([64, 128])\n",
            "input_to_hidden_linear.bias torch.Size([64])\n",
            "hidden_to_output_linear.weight torch.Size([3, 64])\n",
            "hidden_to_output_linear.bias torch.Size([3])\n"
          ]
        }
      ]
    },
    {
      "cell_type": "markdown",
      "source": [
        "# Save Model"
      ],
      "metadata": {
        "id": "VFyyoaZzAKus"
      }
    },
    {
      "cell_type": "code",
      "source": [
        "# torch.save(gru_model.state_dict(), '/content/gru_model.pth')\n",
        "\n",
        "# Load (jika mau pakai lagi)\n",
        "gru_model = ClassifyUsingGRU(embedding_dim, hidden_size)\n",
        "gru_model.load_state_dict(torch.load('/content/MyDrive/MyDrive/gru_model.pth'))\n",
        "gru_model.eval()  # jangan lupa set eval mode"
      ],
      "metadata": {
        "id": "1sJ4Yxy5_sBS",
        "colab": {
          "base_uri": "https://localhost:8080/"
        },
        "outputId": "0d3a7ec2-c1dc-4f09-d929-23a450ece934"
      },
      "execution_count": null,
      "outputs": [
        {
          "output_type": "execute_result",
          "data": {
            "text/plain": [
              "ClassifyUsingGRU(\n",
              "  (gru): GRU(100, 128, batch_first=True)\n",
              "  (input_to_hidden_linear): Linear(in_features=128, out_features=64, bias=True)\n",
              "  (hidden_to_output_linear): Linear(in_features=64, out_features=3, bias=True)\n",
              ")"
            ]
          },
          "metadata": {},
          "execution_count": 20
        }
      ]
    }
  ]
}